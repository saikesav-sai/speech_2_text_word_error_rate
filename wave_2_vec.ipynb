{
 "cells": [
  {
   "cell_type": "code",
   "execution_count": 3,
   "metadata": {},
   "outputs": [
    {
     "name": "stderr",
     "output_type": "stream",
     "text": [
      "d:\\study\\codes\\engineering_codes\\research\\conda_env\\lib\\site-packages\\tqdm\\auto.py:21: TqdmWarning: IProgress not found. Please update jupyter and ipywidgets. See https://ipywidgets.readthedocs.io/en/stable/user_install.html\n",
      "  from .autonotebook import tqdm as notebook_tqdm\n"
     ]
    }
   ],
   "source": [
    "import torch\n",
    "from transformers import Wav2Vec2ForCTC, Wav2Vec2Tokenizer\n",
    "import soundfile as sf"
   ]
  },
  {
   "cell_type": "code",
   "execution_count": null,
   "metadata": {},
   "outputs": [
    {
     "name": "stderr",
     "output_type": "stream",
     "text": [
      "Some weights of the model checkpoint at facebook/wav2vec2-large-960h were not used when initializing Wav2Vec2ForCTC: ['wav2vec2.encoder.pos_conv_embed.conv.weight_g', 'wav2vec2.encoder.pos_conv_embed.conv.weight_v']\n",
      "- This IS expected if you are initializing Wav2Vec2ForCTC from the checkpoint of a model trained on another task or with another architecture (e.g. initializing a BertForSequenceClassification model from a BertForPreTraining model).\n",
      "- This IS NOT expected if you are initializing Wav2Vec2ForCTC from the checkpoint of a model that you expect to be exactly identical (initializing a BertForSequenceClassification model from a BertForSequenceClassification model).\n",
      "Some weights of Wav2Vec2ForCTC were not initialized from the model checkpoint at facebook/wav2vec2-large-960h and are newly initialized: ['wav2vec2.encoder.pos_conv_embed.conv.parametrizations.weight.original0', 'wav2vec2.encoder.pos_conv_embed.conv.parametrizations.weight.original1', 'wav2vec2.masked_spec_embed']\n",
      "You should probably TRAIN this model on a down-stream task to be able to use it for predictions and inference.\n",
      "The tokenizer class you load from this checkpoint is not the same type as the class this function is called from. It may result in unexpected tokenization. \n",
      "The tokenizer class you load from this checkpoint is 'Wav2Vec2CTCTokenizer'. \n",
      "The class this function is called from is 'Wav2Vec2Tokenizer'.\n"
     ]
    },
    {
     "data": {
      "text/plain": [
       "('../models/tokenizer\\\\tokenizer_config.json',\n",
       " '../models/tokenizer\\\\special_tokens_map.json',\n",
       " '../models/tokenizer\\\\vocab.json',\n",
       " '../models/tokenizer\\\\added_tokens.json')"
      ]
     },
     "execution_count": 13,
     "metadata": {},
     "output_type": "execute_result"
    }
   ],
   "source": [
    "# #saving the pretrained model\n",
    "# from transformers import Wav2Vec2ForCTC, Wav2Vec2Tokenizer\n",
    "# # Download and save model and tokenizer locally\n",
    "# model = Wav2Vec2ForCTC.from_pretrained(\"facebook/wav2vec2-large-960h\")\n",
    "# tokenizer = Wav2Vec2Tokenizer.from_pretrained(\"facebook/wav2vec2-large-960h\")\n",
    "\n",
    "# model.save_pretrained(\"../models/model\")\n",
    "# tokenizer.save_pretrained(\"../models/tokenizer\")\n"
   ]
  },
  {
   "cell_type": "code",
   "execution_count": 6,
   "metadata": {},
   "outputs": [
    {
     "name": "stdout",
     "output_type": "stream",
     "text": [
      "Transcribed Text: HE BEGAN A CONFUSE COMPLAINT AGAINSTD WIZARD WHO HAD VANISHED BEHIND THE CURTAIN ON HE LIE\n"
     ]
    }
   ],
   "source": [
    "def transcribe_audio(audio_file_path):\n",
    "    # Load pre-trained model and tokenizer\n",
    "    model = Wav2Vec2ForCTC.from_pretrained(\"../models/word_vec\")\n",
    "    tokenizer = Wav2Vec2Tokenizer.from_pretrained(\"../models/word_vec/tokenizer\")\n",
    "\n",
    "    # Load audio file\n",
    "    audio_input, sample_rate = sf.read(audio_file_path)\n",
    "\n",
    "    # Tokenize and convert to input features\n",
    "    input_values = tokenizer(audio_input, return_tensors=\"pt\").input_values\n",
    "\n",
    "    # Transcribe audio\n",
    "    with torch.no_grad():\n",
    "        logits = model(input_values).logits\n",
    "\n",
    "    # Decode the transcription\n",
    "    predicted_ids = torch.argmax(logits, dim=-1)\n",
    "    transcription = tokenizer.batch_decode(predicted_ids)[0]\n",
    "\n",
    "    return transcription\n",
    "\n",
    "# Example usage:\n",
    "audio_file_path = r\"D:\\study\\codes\\engineering_codes\\projects\\speech_2_text_word_error_rate\\dataset\\LibriSpeech\\test-clean\\61\\70968\\output\\noise_added\\61-70968-0000.wav\"\n",
    "transcribed_text = transcribe_audio(audio_file_path)\n",
    "print(\"Transcribed Text:\", transcribed_text)"
   ]
  },
  {
   "cell_type": "code",
   "execution_count": 1,
   "metadata": {},
   "outputs": [
    {
     "name": "stdout",
     "output_type": "stream",
     "text": [
      "2.10.1\n"
     ]
    }
   ],
   "source": [
    "import tensorflow as tf\n",
    "print(tf.__version__)\n"
   ]
  }
 ],
 "metadata": {
  "kernelspec": {
   "display_name": "Python 3",
   "language": "python",
   "name": "python3"
  },
  "language_info": {
   "codemirror_mode": {
    "name": "ipython",
    "version": 3
   },
   "file_extension": ".py",
   "mimetype": "text/x-python",
   "name": "python",
   "nbconvert_exporter": "python",
   "pygments_lexer": "ipython3",
   "version": "3.10.14"
  }
 },
 "nbformat": 4,
 "nbformat_minor": 2
}
