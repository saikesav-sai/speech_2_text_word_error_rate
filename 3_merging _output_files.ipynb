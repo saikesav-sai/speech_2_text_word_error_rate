{
 "cells": [
  {
   "cell_type": "code",
   "execution_count": 1,
   "metadata": {},
   "outputs": [
    {
     "name": "stdout",
     "output_type": "stream",
     "text": [
      "Files have been combined, saved, and original CSV files have been deleted.\n"
     ]
    }
   ],
   "source": [
    "from fileinput import filename\n",
    "import pandas as pd\n",
    "import os\n",
    "from pathlib import Path\n",
    "import glob\n",
    "\n",
    "# Define input and output folders\n",
    "output_folder = Path( r\"..\\outputs\\libri_dataset_outputs\\denoised_word_vec\\grouped\")\n",
    "input_folder = Path(r\"..\\outputs\\libri_dataset_outputs\\denoised_word_vec\\without_group\")\n",
    "\n",
    "# Find all CSV files in the folder\n",
    "all_filenames = list(input_folder.glob('*.csv'))\n",
    "\n",
    "if not all_filenames:\n",
    "    raise FileNotFoundError(\"No CSV files found in the input folder.\")\n",
    "\n",
    "# Combine all files in the list\n",
    "combined_csv_list = []\n",
    "for f in all_filenames:\n",
    "    try:\n",
    "        df = pd.read_csv(f, encoding='utf-8')\n",
    "    except UnicodeDecodeError:\n",
    "        df = pd.read_csv(f, encoding='latin1')\n",
    "    combined_csv_list.append(df)\n",
    "\n",
    "combined_csv = pd.concat(combined_csv_list, ignore_index=True)\n",
    "\n",
    "# Export to CSV\n",
    "csv_output_path = output_folder / \"denoised_word_vec_merged_single_files.csv\"\n",
    "combined_csv.to_csv(csv_output_path, index=False, encoding='utf-8-sig')\n",
    "\n",
    "# Export to Excel\n",
    "excel_output_path = output_folder / \"denoised_word_vec_merged_single_files.xlsx\"\n",
    "combined_csv.to_excel(excel_output_path, index=False)\n",
    "\n",
    "# Delete the original CSV files\n",
    "os.remove(csv_output_path)\n",
    "\n",
    "print(\"Files have been combined, saved, and original CSV files have been deleted.\")\n"
   ]
  }
 ],
 "metadata": {
  "kernelspec": {
   "display_name": "Python 3",
   "language": "python",
   "name": "python3"
  },
  "language_info": {
   "codemirror_mode": {
    "name": "ipython",
    "version": 3
   },
   "file_extension": ".py",
   "mimetype": "text/x-python",
   "name": "python",
   "nbconvert_exporter": "python",
   "pygments_lexer": "ipython3",
   "version": "3.10.14"
  }
 },
 "nbformat": 4,
 "nbformat_minor": 2
}
